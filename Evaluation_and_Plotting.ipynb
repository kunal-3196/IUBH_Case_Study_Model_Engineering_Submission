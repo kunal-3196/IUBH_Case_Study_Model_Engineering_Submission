{
 "cells": [
  {
   "cell_type": "markdown",
   "metadata": {},
   "source": [
    "# Evaluation & Plotting : Credit Card Routing for Online Purchase via Predictive Modelling"
   ]
  },
  {
   "cell_type": "markdown",
   "metadata": {},
   "source": [
    "## Evaluating the designed model\n",
    "**Accuracy** is the important part of model evaluation & for our case study accuracy can be determined by the prediction made which is favorable for **business revenue**, means  predicted transaction fees for the given record should be lower that actual transaction fee. Code is written as below.\n",
    "\n",
    "**dataframe.iat[i,j]** = Gives the value of cell located at i<sup>th</sup> row & j<sup>th</sup> column in a dataframe"
   ]
  },
  {
   "cell_type": "code",
   "execution_count": null,
   "metadata": {},
   "outputs": [],
   "source": [
    "#Function to calculate the evaluation metrics\n",
    "def model_evaluation(data_predicted_transaction_amount):\n",
    "    #Inserting new column to calculate difference between original & predicted transaction fee\n",
    "    data_predicted_transaction_amount.insert(9,\"excess_transaction_fee\",0)\n",
    "    #Initializing required variables\n",
    "    sum_original_fee=0\n",
    "    sum_profit=0\n",
    "    sum_loss=0\n",
    "    count_true=0\n",
    "    count_false=0\n",
    "    #Iterating through the entire dataframe\n",
    "    for i in range(len(data_predicted_transaction_amount)):\n",
    "        #Calculating difference between original & predicted transaction fee\n",
    "        delta=data_predicted_transaction_amount.iat[i,5]-data_predicted_transaction_amount.iat[i,8]\n",
    "        #Incrementing the sum of original transaction fee\n",
    "        sum_original_fee+=data_predicted_transaction_amount.iat[i,5]\n",
    "        #If predicted transaction fee less than or equal to original transaction fees\n",
    "        if(delta>0 or delta==0):\n",
    "            #Incrementing profit value\n",
    "            sum_profit+=delta\n",
    "            #Incrementing Count of correct predictions\n",
    "            count_true+=1\n",
    "        else:\n",
    "            #Incrementing loss value\n",
    "            sum_loss+=abs(delta)\n",
    "            #Incrementing Count of incorrect predictions\n",
    "            count_false+=1\n",
    "        #Inserting delta value in the added column\n",
    "        data_predicted_transaction_amount.iat[i,9]=delta\n",
    "    #Printing final results\n",
    "    print(\"The accuracy of this model is\",str(format(count_true/(count_true+count_false)*100,\"0.2f\"))+\"%.\")\n",
    "    print(\"Total amount of\", format((sum_profit-sum_loss),\"0.2f\"),\"Euros i.e. \"+str(format((sum_profit-sum_loss)/sum_original_fee*100,\"0.2f\"))+\"% transaction fees can be saved.\")\n",
    "#Calling function\n",
    "model_evaluation(pred_t_fee_dframe)"
   ]
  },
  {
   "cell_type": "markdown",
   "metadata": {},
   "source": [
    "## Plotting the Model Output\n",
    "From the overall model, it can be said that primary feature for information gain is __country__ & that  predictive analysis in the __transaction fee__ based on which plotting is done through below code using **matplotlib**"
   ]
  },
  {
   "cell_type": "code",
   "execution_count": null,
   "metadata": {},
   "outputs": [],
   "source": [
    "import matplotlib.pyplot as plt\n",
    "\n",
    "#Function for plotting graphs of the model\n",
    "def model_plot(final_dataframe):\n",
    "    #Extracting unique countries from model dataframe\n",
    "    feature_list_1=list(set(final_dataframe[\"country\"]))\n",
    "    #Declaring lists to specify time & unique PSP on X-axis\n",
    "    x_time=[]\n",
    "    x_PSP_list=list(set(final_dataframe[\"PSP\"]))\n",
    "    #Declaring lists to specify original & predicted values on Y-axis\n",
    "    y_original=[]\n",
    "    y_predicted=[]\n",
    "    y_count_original=[]\n",
    "    y_count_predicted=[]\n",
    "    #Iterating through the list of countries\n",
    "    for i in range(len(feature_list_1)):\n",
    "        #Selecting each country\n",
    "        final_dataframe_sub=final_dataframe[final_dataframe[\"country\"]==feature_list_1[i]]\n",
    "        #Getting timestamp, original & predicted transaction fee for each country & every transaction\n",
    "        x_time.append(list(final_dataframe_sub[\"time_diff_cum\"]))\n",
    "        y_original.append(list(final_dataframe_sub[\"original_transaction_fees\"]))\n",
    "        y_predicted.append(list(final_dataframe_sub[\"predicted_transaction_fees\"]))\n",
    "    #Contry timestamp to log scale due to high amount of data\n",
    "    plt.xscale(\"log\")\n",
    "    #Plotting timestamp v/s transaction fee graph for each country using specified legend\n",
    "    plt.plot(x_time[1], y_predicted[1],label=\"predicted\",color=\"purple\")\n",
    "    plt.plot(x_time[1], y_original[1],label=\"original\",color=\"blue\")\n",
    "    plt.plot(x_time[2], y_predicted[2],label=\"predicted\",color=\"purple\")\n",
    "    plt.plot(x_time[2], y_original[2],label=\"original\",color=\"blue\")\n",
    "    plt.plot(x_time[3], y_predicted[3],label=\"predicted\",color=\"purple\")\n",
    "    plt.plot(x_time[3], y_original[3],label=\"original\",color=\"blue\")\n",
    "    plt.xlabel(\"Logarithmic Scale- Cumulative Time difference (Seconds)\")\n",
    "    plt.ylabel(\"Transaction Fee (Euros)\")\n",
    "    plt.title(feature_list_1[1]+\" - Transaction fee trend with time\")\n",
    "    #Itinrating through the list of unique PSP values\n",
    "    for i in range(len(x_PSP_list)):\n",
    "        #Identifying count of given & predicted transaction fee for each PSP\n",
    "        count_original_PSP=len(final_dataframe[final_dataframe[\"PSP\"]==x_PSP_list[i]])\n",
    "        count_predicted_PSP=len(final_dataframe[final_dataframe[\"predicted_PSP\"]==x_PSP_list[i]])\n",
    "        y_count_original.append(count_original_PSP)\n",
    "        y_count_predicted.append(count_predicted_PSP)\n",
    "    # Plotting PSP on X-axis & transaction fee on Y-axis in a joint bar graph\n",
    "    X_axis = np.arange(len(x_PSP_list))\n",
    "    plt.bar(X_axis-0.2,y_count_original,0.4,label=\"original\")\n",
    "    plt.bar(X_axis+0.2,y_count_predicted,0.4,label=\"predicted\")\n",
    "    plt.xticks(X_axis, x_PSP_list) \n",
    "    plt.legend(loc=\"upper left\",fontsize=10)\n",
    "    plt.xlabel(\"PSP\")\n",
    "    plt.ylabel(\"Transaction Count\")\n",
    "    plt.title(\"Transaction count for PSPs\")\n",
    "    plt.show()\n",
    "# Calling plot function\n",
    "model_plot(pred_t_fee_dframe)"
   ]
  }
 ],
 "metadata": {
  "language_info": {
   "name": "python"
  }
 },
 "nbformat": 4,
 "nbformat_minor": 2
}
